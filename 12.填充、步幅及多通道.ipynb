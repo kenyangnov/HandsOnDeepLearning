{
 "cells": [
  {
   "cell_type": "code",
   "execution_count": 1,
   "metadata": {},
   "outputs": [],
   "source": [
    "import d2lzh as d2l\n",
    "from mxnet import nd\n",
    "from mxnet.gluon import nn"
   ]
  },
  {
   "cell_type": "code",
   "execution_count": 2,
   "metadata": {},
   "outputs": [
    {
     "data": {
      "text/plain": [
       "(8, 8)"
      ]
     },
     "execution_count": 2,
     "metadata": {},
     "output_type": "execute_result"
    }
   ],
   "source": [
    "# 填充 padding\n",
    "\n",
    "# 定义一个函数计算卷积层。它初始化卷积层权重，并对输入和输出进行相应的升维和降维\n",
    "def comp_conv2d(conv2d, X):\n",
    "    conv2d.initialize()\n",
    "    #(1,1)代表批量大小和通道数\n",
    "    X = X.reshape((1, 1) + X.shape)\n",
    "    Y = conv2d(X)\n",
    "    return Y.reshape(Y.shape[2:]) #排除不关心的前两维：批量和通道\n",
    "\n",
    "# 注意这里是两侧分别填充1行或列，所以在两侧一共填充2行或列\n",
    "conv2d = nn.Conv2D(1, kernel_size=3, padding=1)\n",
    "X = nd.random.uniform(shape=(8,8))\n",
    "comp_conv2d(conv2d, X).shape"
   ]
  },
  {
   "cell_type": "code",
   "execution_count": 3,
   "metadata": {},
   "outputs": [
    {
     "name": "stdout",
     "output_type": "stream",
     "text": [
      "(4, 4)\n",
      "(2, 2)\n"
     ]
    }
   ],
   "source": [
    "# 步幅 stride\n",
    "conv2d = nn.Conv2D(1, kernel_size=3, padding=1, strides=2)\n",
    "print(comp_conv2d(conv2d, X).shape)\n",
    "\n",
    "\n",
    "conv2d = nn.Conv2D(1, kernel_size=(3, 5), padding=(0, 1), strides=(3, 4))\n",
    "print(comp_conv2d(conv2d, X).shape)"
   ]
  },
  {
   "cell_type": "code",
   "execution_count": 4,
   "metadata": {},
   "outputs": [
    {
     "data": {
      "text/plain": [
       "\n",
       "[[  56.   72.]\n",
       " [ 104.  120.]]\n",
       "<NDArray 2x2 @cpu(0)>"
      ]
     },
     "execution_count": 4,
     "metadata": {},
     "output_type": "execute_result"
    }
   ],
   "source": [
    "# 多输入通道\n",
    "\n",
    "# 实现含多个输入通道的互相关运算\n",
    "def corr2d_multi_in(X, K):\n",
    "    # 首先沿着X和K的第0维（通道维）开始遍历\n",
    "    # 然后使用*将结果列表变为add_n函数的位置参数（positional argument）来进行相加\n",
    "    return nd.add_n(*[d2l.corr2d(x, k) for x, k in zip(X, K)])\n",
    "# 另：列表前面加星号作用是将列表解开成两个独立的参数，传入函数\n",
    "# data = [4,3],add(*data) equals to print add(4, 3)\n",
    "\n",
    "X = nd.array([[[0, 1, 2], [3, 4, 5], [6, 7, 8]],\n",
    "              [[1, 2, 3], [4, 5, 6], [7, 8, 9]]])\n",
    "K = nd.array([[[0, 1], [2, 3]], [[1, 2], [3, 4]]])\n",
    "\n",
    "corr2d_multi_in(X, K)"
   ]
  },
  {
   "cell_type": "code",
   "execution_count": 5,
   "metadata": {},
   "outputs": [
    {
     "name": "stdout",
     "output_type": "stream",
     "text": [
      "(3, 2, 2, 2)\n"
     ]
    },
    {
     "data": {
      "text/plain": [
       "\n",
       "[[[  56.   72.]\n",
       "  [ 104.  120.]]\n",
       "\n",
       " [[  76.  100.]\n",
       "  [ 148.  172.]]\n",
       "\n",
       " [[  96.  128.]\n",
       "  [ 192.  224.]]]\n",
       "<NDArray 3x2x2 @cpu(0)>"
      ]
     },
     "execution_count": 5,
     "metadata": {},
     "output_type": "execute_result"
    }
   ],
   "source": [
    "# 多输出通道\n",
    "\n",
    "def corr2d_multi_in_out(X, K):\n",
    "    # 对K的第0维遍历，每次同时输入X做互相关计算。所有结果使用stack函数合并在一起\n",
    "    return nd.stack(*[corr2d_multi_in(X, k) for k in K])\n",
    "\n",
    "#将核数组K同K+1（K中每个元素加一）和K+2连结在一起来构造一个输出通道数为3的卷积核\n",
    "K = nd.stack(K, K + 1, K + 2)\n",
    "print(K.shape)\n",
    "\n",
    "corr2d_multi_in_out(X, K)"
   ]
  },
  {
   "cell_type": "code",
   "execution_count": 6,
   "metadata": {},
   "outputs": [],
   "source": [
    "# 1×1的卷积层：\n",
    "# 它的主要计算发生在通道维上，通常用来调整网络层之间的通道数，并控制模型复杂度。\n",
    "# 假设我们将通道维当作特征维，将高和宽维度上的元素当成数据样本，\n",
    "# 那么 1×1 卷积层的作用与全连接层等价。\n",
    "\n",
    "\n",
    "#下面使用全连接层中的矩阵乘法来实现 1×1 卷积\n",
    "def corr2d_multi_in_out_1x1(X, K):\n",
    "    c_i, h, w = X.shape\n",
    "    c_o = K.shape[0]\n",
    "    X = X.reshape((c_i, h*w))\n",
    "    K = K.reshape((c_o, c_i))\n",
    "    Y = nd.dot(K, X) #全连接层的矩阵乘法（注意K，X点乘顺序）\n",
    "    return Y.reshape((c_o, h, w))"
   ]
  },
  {
   "cell_type": "code",
   "execution_count": 7,
   "metadata": {},
   "outputs": [
    {
     "data": {
      "text/plain": [
       "True"
      ]
     },
     "execution_count": 7,
     "metadata": {},
     "output_type": "execute_result"
    }
   ],
   "source": [
    "X = nd.random.uniform(shape=(3, 3, 3))\n",
    "K = nd.random.uniform(shape=(2, 3, 1, 1))\n",
    "\n",
    "Y1 = corr2d_multi_in_out_1x1(X, K)\n",
    "Y2 = corr2d_multi_in_out(X, K)\n",
    "\n",
    "(Y1 - Y2).norm().asscalar() < 1e-6\n",
    "\n",
    "# 经验证，做 1×1 卷积时，以上函数与之前实现的互相关运算函数corr2d_multi_in_out等价。"
   ]
  }
 ],
 "metadata": {
  "kernelspec": {
   "display_name": "Python 3",
   "language": "python",
   "name": "python3"
  },
  "language_info": {
   "codemirror_mode": {
    "name": "ipython",
    "version": 3
   },
   "file_extension": ".py",
   "mimetype": "text/x-python",
   "name": "python",
   "nbconvert_exporter": "python",
   "pygments_lexer": "ipython3",
   "version": "3.6.2"
  }
 },
 "nbformat": 4,
 "nbformat_minor": 2
}
