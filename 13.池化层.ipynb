{
 "cells": [
  {
   "cell_type": "code",
   "execution_count": 1,
   "metadata": {},
   "outputs": [],
   "source": [
    "# 池化（pooling）层，它的提出是为了缓解卷积层对位置的过度敏感性。\n",
    "from mxnet import nd\n",
    "from mxnet.gluon import nn\n",
    "\n",
    "def pool2d(x, pool_size, mode = 'max'):\n",
    "    p_h, p_w = pool_size\n",
    "    Y = nd.zeros((X.shape[0] - p_h + 1, X.shape[1] - p_w + 1))\n",
    "    for i in range(Y.shape[0]):\n",
    "        for j in range(Y.shape[1]):\n",
    "            if mode == 'max':\n",
    "                Y[i, j] = X[i: i+p_h, j: j+p_w].max()\n",
    "            elif mode == 'avg':\n",
    "                Y[i, j] = X[i: i+p_h, j: j+p_w].mean()\n",
    "    return Y"
   ]
  },
  {
   "cell_type": "code",
   "execution_count": 2,
   "metadata": {},
   "outputs": [
    {
     "data": {
      "text/plain": [
       "\n",
       "[[ 4.  5.]\n",
       " [ 7.  8.]]\n",
       "<NDArray 2x2 @cpu(0)>"
      ]
     },
     "execution_count": 2,
     "metadata": {},
     "output_type": "execute_result"
    }
   ],
   "source": [
    "X = nd.array([[0, 1, 2], [3, 4, 5], [6, 7, 8]])\n",
    "pool2d(X, (2, 2))"
   ]
  },
  {
   "cell_type": "code",
   "execution_count": 3,
   "metadata": {},
   "outputs": [
    {
     "data": {
      "text/plain": [
       "\n",
       "[[ 2.  3.]\n",
       " [ 5.  6.]]\n",
       "<NDArray 2x2 @cpu(0)>"
      ]
     },
     "execution_count": 3,
     "metadata": {},
     "output_type": "execute_result"
    }
   ],
   "source": [
    "pool2d(X, (2, 2), 'avg')"
   ]
  },
  {
   "cell_type": "code",
   "execution_count": 5,
   "metadata": {},
   "outputs": [
    {
     "data": {
      "text/plain": [
       "\n",
       "[[[[  0.   1.   2.   3.]\n",
       "   [  4.   5.   6.   7.]\n",
       "   [  8.   9.  10.  11.]\n",
       "   [ 12.  13.  14.  15.]]]]\n",
       "<NDArray 1x1x4x4 @cpu(0)>"
      ]
     },
     "execution_count": 5,
     "metadata": {},
     "output_type": "execute_result"
    }
   ],
   "source": [
    "X = nd.arange(16).reshape((1,1,4,4))\n",
    "X"
   ]
  },
  {
   "cell_type": "code",
   "execution_count": 6,
   "metadata": {},
   "outputs": [
    {
     "data": {
      "text/plain": [
       "\n",
       "[[[[  5.   7.]\n",
       "   [ 13.  15.]]]]\n",
       "<NDArray 1x1x2x2 @cpu(0)>"
      ]
     },
     "execution_count": 6,
     "metadata": {},
     "output_type": "execute_result"
    }
   ],
   "source": [
    "pool2d = nn.MaxPool2D(3, padding=1, strides=2)\n",
    "pool2d(X)"
   ]
  },
  {
   "cell_type": "code",
   "execution_count": 7,
   "metadata": {},
   "outputs": [
    {
     "data": {
      "text/plain": [
       "\n",
       "[[[[  0.   3.]\n",
       "   [  8.  11.]\n",
       "   [ 12.  15.]]]]\n",
       "<NDArray 1x1x3x2 @cpu(0)>"
      ]
     },
     "execution_count": 7,
     "metadata": {},
     "output_type": "execute_result"
    }
   ],
   "source": [
    "# 指定非正方形的池化窗口，分别指定高和宽上的填充和步幅\n",
    "pool2d = nn.MaxPool2D((2,3), padding=(1,2), strides=(2,3))\n",
    "pool2d(X)"
   ]
  },
  {
   "cell_type": "code",
   "execution_count": 8,
   "metadata": {},
   "outputs": [
    {
     "data": {
      "text/plain": [
       "\n",
       "[[[[  0.   1.   2.   3.]\n",
       "   [  4.   5.   6.   7.]\n",
       "   [  8.   9.  10.  11.]\n",
       "   [ 12.  13.  14.  15.]]\n",
       "\n",
       "  [[  1.   2.   3.   4.]\n",
       "   [  5.   6.   7.   8.]\n",
       "   [  9.  10.  11.  12.]\n",
       "   [ 13.  14.  15.  16.]]]]\n",
       "<NDArray 1x2x4x4 @cpu(0)>"
      ]
     },
     "execution_count": 8,
     "metadata": {},
     "output_type": "execute_result"
    }
   ],
   "source": [
    "# 将数组X和X+1在通道维上连结来构造通道数为2的输入\n",
    "X = nd.concat(X, X + 1, dim=1)\n",
    "X"
   ]
  },
  {
   "cell_type": "code",
   "execution_count": 9,
   "metadata": {},
   "outputs": [
    {
     "data": {
      "text/plain": [
       "\n",
       "[[[[  5.   7.]\n",
       "   [ 13.  15.]]\n",
       "\n",
       "  [[  6.   8.]\n",
       "   [ 14.  16.]]]]\n",
       "<NDArray 1x2x2x2 @cpu(0)>"
      ]
     },
     "execution_count": 9,
     "metadata": {},
     "output_type": "execute_result"
    }
   ],
   "source": [
    "pool2d = nn.MaxPool2D(3, padding=1, strides=2)\n",
    "pool2d(X)"
   ]
  }
 ],
 "metadata": {
  "kernelspec": {
   "display_name": "Python 3",
   "language": "python",
   "name": "python3"
  },
  "language_info": {
   "codemirror_mode": {
    "name": "ipython",
    "version": 3
   },
   "file_extension": ".py",
   "mimetype": "text/x-python",
   "name": "python",
   "nbconvert_exporter": "python",
   "pygments_lexer": "ipython3",
   "version": "3.6.2"
  }
 },
 "nbformat": 4,
 "nbformat_minor": 2
}
